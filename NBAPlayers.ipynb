{
 "cells": [
  {
   "cell_type": "code",
   "execution_count": null,
   "metadata": {},
   "outputs": [],
   "source": [
    "import pandas as pd\n",
    "\n",
    "# Provide the file path\n",
    "file_path = r'C:\\Users\\mahlo\\OneDrive\\Documents\\NBAPlayers\\NBA-playerlist.csv'\n",
    "\n",
    "# Read the dataset into a pandas DataFrame\n",
    "dataset = pd.read_csv(file_path)\n",
    "\n",
    "# Use the describe function to get statistical properties\n",
    "summary = dataset.describe()\n",
    "\n",
    "# Print or display the summary\n",
    "print(summary)\n"
   ]
  },
  {
   "cell_type": "code",
   "execution_count": null,
   "metadata": {},
   "outputs": [],
   "source": [
    "# Display general information about the dataset\n",
    "info = dataset.info()\n",
    "\n",
    "# Print or display the information\n",
    "print(info)\n",
    "\n",
    "# Get the column names\n",
    "column_names = dataset.columns\n",
    "\n",
    "# Print or display the column names\n",
    "print(column_names)\n",
    "\n",
    "import pandas as pd\n",
    "import matplotlib.pyplot as plt\n",
    "import seaborn as sns"
   ]
  },
  {
   "cell_type": "code",
   "execution_count": null,
   "metadata": {},
   "outputs": [],
   "source": [
    "# Display basic statistics of numerical columns\n",
    "numerical_summary = dataset.describe()\n",
    "print(\"Numerical Summary:\\n\", numerical_summary)\n",
    "\n",
    "# Display distribution of categorical columns\n",
    "categorical_columns = dataset.select_dtypes(include='object').columns\n",
    "for column in categorical_columns:\n",
    "    print(f\"\\nDistribution of {column}:\")\n",
    "    print(dataset[column].value_counts())"
   ]
  },
  {
   "cell_type": "code",
   "execution_count": null,
   "metadata": {},
   "outputs": [],
   "source": [
    "# Visualize the correlation between numerical features\n",
    "correlation_matrix = dataset.corr()\n",
    "plt.figure(figsize=(10, 8))\n",
    "sns.heatmap(correlation_matrix, annot=True, cmap='coolwarm', fmt=\".2f\", linewidths=0.5)\n",
    "plt.title(\"Correlation Matrix\")\n",
    "plt.show()"
   ]
  },
  {
   "cell_type": "code",
   "execution_count": null,
   "metadata": {},
   "outputs": [],
   "source": [
    "# Visualize the distribution of numerical features\n",
    "plt.figure(figsize=(15, 10))\n",
    "dataset.boxplot(rot=45)\n",
    "plt.title(\"Distribution of Numerical Features\")\n",
    "plt.show()\n"
   ]
  },
  {
   "cell_type": "code",
   "execution_count": null,
   "metadata": {},
   "outputs": [],
   "source": [
    "# Visualize the distribution of selected categorical features\n",
    "selected_categorical_columns = ['TEAM_ABBREVIATION', 'TEAM_CITY']\n",
    "for column in selected_categorical_columns:\n",
    "    plt.figure(figsize=(10, 6))\n",
    "    sns.countplot(data=dataset, x=column)\n",
    "    plt.title(f\"Distribution of {column}\")\n",
    "    plt.show()\n"
   ]
  }
 ],
 "metadata": {
  "language_info": {
   "name": "python"
  }
 },
 "nbformat": 4,
 "nbformat_minor": 2
}
